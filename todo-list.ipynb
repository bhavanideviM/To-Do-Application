{
 "cells": [
  {
   "cell_type": "code",
   "execution_count": 1,
   "id": "72f85e96",
   "metadata": {},
   "outputs": [],
   "source": [
    "from tkinter import *"
   ]
  },
  {
   "cell_type": "code",
   "execution_count": 2,
   "id": "dacc662b",
   "metadata": {},
   "outputs": [],
   "source": [
    "from tkinter import messagebox"
   ]
  },
  {
   "cell_type": "code",
   "execution_count": 3,
   "id": "d4722da6",
   "metadata": {},
   "outputs": [],
   "source": [
    "tasks_list =[]\n",
    "counter =1"
   ]
  },
  {
   "cell_type": "code",
   "execution_count": 4,
   "id": "fedc4fb8",
   "metadata": {},
   "outputs": [],
   "source": [
    "def inputError():\n",
    "    if enterTaskField.get()==\"\":\n",
    "        messagebox.showerror(\"InputError\")\n",
    "        return 0\n",
    "    return 1"
   ]
  },
  {
   "cell_type": "code",
   "execution_count": 5,
   "id": "8a2ff1d3",
   "metadata": {},
   "outputs": [],
   "source": [
    "def clear_taskNumberField():\n",
    "    taskNumberField.delete(0.0, END)\n",
    "    "
   ]
  },
  {
   "cell_type": "code",
   "execution_count": 6,
   "id": "5177b468",
   "metadata": {},
   "outputs": [],
   "source": [
    "def clear_taskField():\n",
    "    enterTaskField.delete(0, END)\n",
    "    "
   ]
  },
  {
   "cell_type": "code",
   "execution_count": 7,
   "id": "6142c2e0",
   "metadata": {},
   "outputs": [],
   "source": [
    "def insertTask():\n",
    "    global counter\n",
    "    value = inputError()\n",
    "    if value==0:\n",
    "        return \n",
    "    content = enterTaskField.get() + \"\\n\"\n",
    "    tasks_list.append(content)\n",
    "    TextArea.insert('end -1 chars', \"[ \" + str(counter) + \" ] \" + content)\n",
    "    counter+=1\n",
    "    clear_taskField()\n",
    "    "
   ]
  },
  {
   "cell_type": "code",
   "execution_count": 8,
   "id": "d77eb610",
   "metadata": {},
   "outputs": [],
   "source": [
    "def delete():\n",
    "    global counter\n",
    "    if len(tasks_list)==0:\n",
    "        messagebox.showerror(\"No task\")\n",
    "        return\n",
    "    number = taskNumberField.get(1.0, END)\n",
    "    if number == \"\\n\":\n",
    "        messagebox.showerror(\"input error\")\n",
    "        return\n",
    "    else:\n",
    "        task_no = int(number)\n",
    "    clear_taskNumberField()\n",
    "    tasks_list.pop(task_no-1)\n",
    "    counter-=1\n",
    "    TextArea.delete(1.0, END)\n",
    "    for i in range(len(tasks_list)):\n",
    "        TextArea.insert('end -1 chars', \"[ \" + str(i + 1) + \" ] \" + tasks_list[i])"
   ]
  },
  {
   "cell_type": "code",
   "execution_count": 9,
   "id": "230332c6",
   "metadata": {},
   "outputs": [],
   "source": [
    "if __name__==\"__main__\":\n",
    "    gui = Tk()\n",
    "    gui.configure(background= \"light green\")\n",
    "    gui.title(\"ToDo_Application\")\n",
    "    gui.geometry(\"250x300\")\n",
    "    enterTask = Label(gui, text= \"Enter your Task\", bg=\"lightgreen\")\n",
    "    enterTaskField = Entry(gui)\n",
    "    Submit = Button(gui, text= \"Submit\", fg= \"Black\", bg= \"Red\", command= insertTask)\n",
    "    TextArea = Text(gui, height=5, width=25, font= \"lucida 13\")\n",
    "    taskNumber = Label(gui, text=\"Delete Task Number\",bg=\"blue\")\n",
    "    taskNumberField = Text(gui, height = 1, width = 2, font = \"lucida 13\")\n",
    "    delete = Button(gui, text=\"Delete\", fg= \"Black\", bg=\"Red\", command=delete)\n",
    "    Exit = Button(gui, text = \"Exit\", fg = \"Black\", bg = \"Red\", command = exit)\n",
    "    enterTask.grid(row=0,column=2)\n",
    "    enterTaskField.grid(row=1, column=2, ipadx=50)\n",
    "    Submit.grid(row=2, column=2)\n",
    "    TextArea.grid(row=3, column=2,padx= 10, sticky=W)\n",
    "    taskNumber.grid(row=4,column=2, pady=5)\n",
    "    taskNumberField.grid(row = 5, column = 2)\n",
    "    delete.grid(row=6, column=2, pady=5)\n",
    "    Exit.grid(row=7, column=2)\n",
    "    gui.mainloop()\n",
    "    "
   ]
  },
  {
   "cell_type": "code",
   "execution_count": null,
   "id": "0df95466",
   "metadata": {},
   "outputs": [],
   "source": []
  }
 ],
 "metadata": {
  "kernelspec": {
   "display_name": "Python 3 (ipykernel)",
   "language": "python",
   "name": "python3"
  },
  "language_info": {
   "codemirror_mode": {
    "name": "ipython",
    "version": 3
   },
   "file_extension": ".py",
   "mimetype": "text/x-python",
   "name": "python",
   "nbconvert_exporter": "python",
   "pygments_lexer": "ipython3",
   "version": "3.11.5"
  }
 },
 "nbformat": 4,
 "nbformat_minor": 5
}
